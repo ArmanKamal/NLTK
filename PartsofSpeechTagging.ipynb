{
  "nbformat": 4,
  "nbformat_minor": 0,
  "metadata": {
    "colab": {
      "name": "PartsofSpeechTagging.ipynb",
      "provenance": [],
      "collapsed_sections": [],
      "authorship_tag": "ABX9TyMPo5Z1s4oSaKESuURauLAo",
      "include_colab_link": true
    },
    "kernelspec": {
      "name": "python3",
      "display_name": "Python 3"
    }
  },
  "cells": [
    {
      "cell_type": "markdown",
      "metadata": {
        "id": "view-in-github",
        "colab_type": "text"
      },
      "source": [
        "<a href=\"https://colab.research.google.com/github/ArmanKamal/NLTK/blob/master/PartsofSpeechTagging.ipynb\" target=\"_parent\"><img src=\"https://colab.research.google.com/assets/colab-badge.svg\" alt=\"Open In Colab\"/></a>"
      ]
    },
    {
      "cell_type": "code",
      "metadata": {
        "id": "mB4UTNPCqVBc",
        "colab_type": "code",
        "colab": {}
      },
      "source": [
        "import nltk\n",
        "nltk.download('all')"
      ],
      "execution_count": 0,
      "outputs": []
    },
    {
      "cell_type": "code",
      "metadata": {
        "id": "w2z3tN5HuUka",
        "colab_type": "code",
        "colab": {}
      },
      "source": [
        "from nltk.corpus import state_union\n",
        "from nltk.tag import pos_tag\n",
        "from nltk.tokenize import PunktSentenceTokenizer,word_tokenize"
      ],
      "execution_count": 0,
      "outputs": []
    },
    {
      "cell_type": "code",
      "metadata": {
        "id": "upNIUQDnvTWJ",
        "colab_type": "code",
        "colab": {}
      },
      "source": [
        "train_text = state_union.raw(\"2005-GWBush.txt\")\n",
        "sample_text = state_union.raw(\"2006-GWBush.txt\")"
      ],
      "execution_count": 0,
      "outputs": []
    },
    {
      "cell_type": "code",
      "metadata": {
        "id": "92RYCxRxvkFz",
        "colab_type": "code",
        "colab": {}
      },
      "source": [
        "custom_sentence_tokenizer = PunktSentenceTokenizer(train_text)\n",
        "tokenized_sentence = custom_sentence_tokenizer.tokenize(sample_text)"
      ],
      "execution_count": 0,
      "outputs": []
    },
    {
      "cell_type": "code",
      "metadata": {
        "id": "oxARn4xKv1f8",
        "colab_type": "code",
        "colab": {}
      },
      "source": [
        "def content():\n",
        "    try:\n",
        "      for t in tokenized_sentence:\n",
        "        words = word_tokenize(t)\n",
        "        tagged = pos_tag(words)\n",
        "        print(tagged)\n",
        "    \n",
        "    except Exception as e:\n",
        "        print(str(e))\n",
        "\n",
        "content()\n",
        "   "
      ],
      "execution_count": 0,
      "outputs": []
    }
  ]
}