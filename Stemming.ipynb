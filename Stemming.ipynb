{
  "nbformat": 4,
  "nbformat_minor": 0,
  "metadata": {
    "colab": {
      "name": "Stemming.ipynb",
      "provenance": [],
      "toc_visible": true,
      "authorship_tag": "ABX9TyO+SukW86pkBgAtxuJTn63W",
      "include_colab_link": true
    },
    "kernelspec": {
      "name": "python3",
      "display_name": "Python 3"
    }
  },
  "cells": [
    {
      "cell_type": "markdown",
      "metadata": {
        "id": "view-in-github",
        "colab_type": "text"
      },
      "source": [
        "<a href=\"https://colab.research.google.com/github/ArmanKamal/NLTK/blob/master/Stemming.ipynb\" target=\"_parent\"><img src=\"https://colab.research.google.com/assets/colab-badge.svg\" alt=\"Open In Colab\"/></a>"
      ]
    },
    {
      "cell_type": "code",
      "metadata": {
        "id": "gkzYR3urivzu",
        "colab_type": "code",
        "colab": {}
      },
      "source": [
        "import nltk\n",
        "nltk.download('all')\n",
        "\n"
      ],
      "execution_count": 0,
      "outputs": []
    },
    {
      "cell_type": "code",
      "metadata": {
        "id": "SiPeQjXrnVst",
        "colab_type": "code",
        "colab": {}
      },
      "source": [
        "from nltk.stem import SnowballStemmer\n",
        "from nltk.stem import PorterStemmer\n",
        "from nltk.tokenize import word_tokenize"
      ],
      "execution_count": 0,
      "outputs": []
    },
    {
      "cell_type": "code",
      "metadata": {
        "id": "QA7pXXZKm68U",
        "colab_type": "code",
        "colab": {}
      },
      "source": [
        "##  Call the stemmer function ## \n",
        "\n",
        "## It will preprocess the words ##\n",
        "\n",
        "## SnowBallStemmer is better than PorterStemmer\n",
        "\n",
        "ps = PorterStemmer()\n",
        "snb = SnowballStemmer(\"english\")"
      ],
      "execution_count": 0,
      "outputs": []
    },
    {
      "cell_type": "code",
      "metadata": {
        "id": "1P8Ydsg3nwdR",
        "colab_type": "code",
        "colab": {}
      },
      "source": [
        "example_text = \"It was very cold and I was running quite a long time when I saw a bike passing by me\""
      ],
      "execution_count": 0,
      "outputs": []
    },
    {
      "cell_type": "code",
      "metadata": {
        "id": "59TQ14JYovf9",
        "colab_type": "code",
        "colab": {
          "base_uri": "https://localhost:8080/",
          "height": 54
        },
        "outputId": "fb7974c6-a2ec-49ca-9b37-2547ae599a96"
      },
      "source": [
        "words = word_tokenize(example_text)\n",
        "\n",
        "print(words)"
      ],
      "execution_count": 15,
      "outputs": [
        {
          "output_type": "stream",
          "text": [
            "['It', 'was', 'very', 'cold', 'and', 'I', 'was', 'running', 'quite', 'a', 'long', 'time', 'when', 'I', 'saw', 'a', 'bike', 'passing', 'by', 'me', 'and', 'almost', 'hit', 'me', '.', 'I', 'quickly', 'jumped', 'and', 'The', 'car', 'couldnot', 'hit', 'me']\n"
          ],
          "name": "stdout"
        }
      ]
    },
    {
      "cell_type": "code",
      "metadata": {
        "id": "ah5cpxe9o_13",
        "colab_type": "code",
        "colab": {}
      },
      "source": [
        "\n",
        "for w in words:\n",
        "  print(snb.stem(w))\n",
        "  "
      ],
      "execution_count": 0,
      "outputs": []
    }
  ]
}