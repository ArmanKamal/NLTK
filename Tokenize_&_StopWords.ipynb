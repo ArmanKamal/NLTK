{
  "nbformat": 4,
  "nbformat_minor": 0,
  "metadata": {
    "colab": {
      "name": "Tokenize & StopWords.ipynb",
      "provenance": [],
      "collapsed_sections": [],
      "toc_visible": true,
      "authorship_tag": "ABX9TyMi9Tac74qQf+Qdsw0tHids",
      "include_colab_link": true
    },
    "kernelspec": {
      "name": "python3",
      "display_name": "Python 3"
    }
  },
  "cells": [
    {
      "cell_type": "markdown",
      "metadata": {
        "id": "view-in-github",
        "colab_type": "text"
      },
      "source": [
        "<a href=\"https://colab.research.google.com/github/ArmanKamal/NLTK/blob/master/Tokenize_%26_StopWords.ipynb\" target=\"_parent\"><img src=\"https://colab.research.google.com/assets/colab-badge.svg\" alt=\"Open In Colab\"/></a>"
      ]
    },
    {
      "cell_type": "code",
      "metadata": {
        "id": "ZEcTeBOXCAIQ",
        "colab_type": "code",
        "colab": {}
      },
      "source": [
        "!pip install nltk\n",
        "nltk.download('stopwords','pltk')\n"
      ],
      "execution_count": 0,
      "outputs": []
    },
    {
      "cell_type": "code",
      "metadata": {
        "id": "9BPrk_8GBaZW",
        "colab_type": "code",
        "colab": {}
      },
      "source": [
        "## Importing Necessary apis FROM NLTK KIT\n",
        "\n",
        "from nltk.corpus import stopwords\n",
        "from nltk.tokenize import word_tokenize,sent_tokenize"
      ],
      "execution_count": 0,
      "outputs": []
    },
    {
      "cell_type": "code",
      "metadata": {
        "id": "RmXvaDfjCfUu",
        "colab_type": "code",
        "colab": {}
      },
      "source": [
        "some_text = \"Jobs was raised by adoptive parents in Cupertino, California, located in what is now known as Silicon Valley. Though he was interested in engineering, his passions of youth varied. He dropped out of Reed College, in Portland, Oregon, took a job at Atari Corporation as a video game designer in early 1974, and saved enough money for a pilgrimage to India to experience Buddhism.\""
      ],
      "execution_count": 0,
      "outputs": []
    },
    {
      "cell_type": "code",
      "metadata": {
        "id": "5sCdzwm2Ctk9",
        "colab_type": "code",
        "outputId": "84f7b4e0-27cf-4fd8-8483-f02c21186c9d",
        "colab": {
          "base_uri": "https://localhost:8080/",
          "height": 54
        }
      },
      "source": [
        "## Tokenizing text by words and sentences\n",
        "word_text = word_tokenize(some_text)\n",
        "sent_text = sent_tokenize(some_text)\n",
        "\n",
        "print(word_text)"
      ],
      "execution_count": 0,
      "outputs": [
        {
          "output_type": "stream",
          "text": [
            "['Jobs', 'was', 'raised', 'by', 'adoptive', 'parents', 'in', 'Cupertino', ',', 'California', ',', 'located', 'in', 'what', 'is', 'now', 'known', 'as', 'Silicon', 'Valley', '.', 'Though', 'he', 'was', 'interested', 'in', 'engineering', ',', 'his', 'passions', 'of', 'youth', 'varied', '.', 'He', 'dropped', 'out', 'of', 'Reed', 'College', ',', 'in', 'Portland', ',', 'Oregon', ',', 'took', 'a', 'job', 'at', 'Atari', 'Corporation', 'as', 'a', 'video', 'game', 'designer', 'in', 'early', '1974', ',', 'and', 'saved', 'enough', 'money', 'for', 'a', 'pilgrimage', 'to', 'India', 'to', 'experience', 'Buddhism', '.']\n"
          ],
          "name": "stdout"
        }
      ]
    },
    {
      "cell_type": "code",
      "metadata": {
        "id": "UWl2ETn9C_n4",
        "colab_type": "code",
        "outputId": "1d696bf1-e0af-4584-f9c1-68da285a788c",
        "colab": {
          "base_uri": "https://localhost:8080/",
          "height": 54
        }
      },
      "source": [
        "## Getting the stop words from English Language \n",
        "## Stop words are those words that are not necessary for our data analysis\n",
        "\n",
        "\n",
        "stop_words = set(stopwords.words(\"english\"))\n",
        "print(stop_words)"
      ],
      "execution_count": 0,
      "outputs": [
        {
          "output_type": "stream",
          "text": [
            "{'these', 'those', 'shan', 'after', 'we', 'not', 'because', 'through', 'am', 'was', 'or', 'about', 'in', 'myself', 'up', 'from', \"won't\", 'how', 'all', 'hasn', 'on', 'down', 'herself', 'are', 've', 'an', 'were', 'he', 'ours', 'few', \"it's\", 'while', 'needn', 'more', 'so', 'a', 'than', 'hers', 's', 'as', 'couldn', 'do', \"you're\", 'with', 'once', 'against', 'no', \"haven't\", 'why', 'my', 'both', 'd', 'yourself', 'during', 'to', 'same', 'only', 'yours', \"wasn't\", 'hadn', 'theirs', 'that', 'i', \"shan't\", 'itself', 'll', 'where', 'him', 'it', 'ma', 'when', \"mightn't\", 'just', 're', 'isn', 'own', 'for', 'will', 'below', 'by', 'o', \"doesn't\", 'should', 'very', 'been', 'has', 'can', \"hasn't\", 'before', 'our', 'most', 'aren', 'ourselves', 'and', 'whom', 'which', 'being', 'some', 'wouldn', 'between', 'having', 'did', 'now', 'shouldn', 'above', 'further', 'there', 'me', 'until', \"should've\", 'their', 'again', \"you'll\", 'they', 'here', 'then', 'under', 'nor', 'into', 'doing', 'be', 'have', 'yourselves', 'who', 'his', 'don', 'the', 'she', \"you'd\", 'won', 'weren', 'at', \"shouldn't\", 'but', 'had', 'himself', 'its', 'out', \"didn't\", \"mustn't\", 'if', \"wouldn't\", \"isn't\", \"that'll\", 'mightn', \"weren't\", \"hadn't\", 'over', 'her', 'y', 'off', 'm', 't', 'wasn', 'themselves', 'such', 'each', 'ain', 'mustn', \"couldn't\", 'what', 'doesn', 'haven', 'is', \"needn't\", \"she's\", \"don't\", \"aren't\", 'other', 'didn', 'too', 'your', 'this', 'them', 'any', \"you've\", 'does', 'you', 'of'}\n"
          ],
          "name": "stdout"
        }
      ]
    },
    {
      "cell_type": "code",
      "metadata": {
        "id": "Cuz7MmrtDr5w",
        "colab_type": "code",
        "outputId": "632c8947-0c9b-4b81-beab-85020c8a3730",
        "colab": {
          "base_uri": "https://localhost:8080/",
          "height": 54
        }
      },
      "source": [
        "## Checking if word_text contain any stop words if they do then remove it from that word_text\n",
        "\n",
        "filter_sentence = []\n",
        "\n",
        "for w in word_text:\n",
        "  if w not in stop_words:\n",
        "     filter_sentence.append(w)\n",
        "\n",
        "print(filter_sentence)\n"
      ],
      "execution_count": 0,
      "outputs": [
        {
          "output_type": "stream",
          "text": [
            "['Jobs', 'raised', 'adoptive', 'parents', 'Cupertino', ',', 'California', ',', 'located', 'known', 'Silicon', 'Valley', '.', 'Though', 'interested', 'engineering', ',', 'passions', 'youth', 'varied', '.', 'He', 'dropped', 'Reed', 'College', ',', 'Portland', ',', 'Oregon', ',', 'took', 'job', 'Atari', 'Corporation', 'video', 'game', 'designer', 'early', '1974', ',', 'saved', 'enough', 'money', 'pilgrimage', 'India', 'experience', 'Buddhism', '.']\n"
          ],
          "name": "stdout"
        }
      ]
    }
  ]
}